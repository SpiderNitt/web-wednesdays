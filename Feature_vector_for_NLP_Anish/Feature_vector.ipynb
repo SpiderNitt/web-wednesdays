{
  "nbformat": 4,
  "nbformat_minor": 0,
  "metadata": {
    "colab": {
      "name": "Feature_vector.ipynb",
      "provenance": [],
      "collapsed_sections": []
    },
    "kernelspec": {
      "name": "python3",
      "display_name": "Python 3"
    }
  },
  "cells": [
    {
      "cell_type": "code",
      "metadata": {
        "id": "-wslDp4x5kE9",
        "colab": {
          "base_uri": "https://localhost:8080/"
        },
        "outputId": "e48ddf1b-731f-4d53-a94a-1bf53c98ecb3"
      },
      "source": [
        "import pandas as pd\n",
        "import numpy as np\n",
        "import nltk\n",
        "import spacy\n",
        "from nltk.tokenize import sent_tokenize, word_tokenize\n",
        "import gensim.downloader as gensim_api\n",
        "from sklearn.preprocessing import StandardScaler\n",
        "from sklearn.decomposition import PCA\n",
        "nltk.download('punkt')\n",
        "nltk.download('stopwords')\n",
        "nltk.download('wordnet')"
      ],
      "execution_count": null,
      "outputs": [
        {
          "output_type": "stream",
          "text": [
            "[nltk_data] Downloading package punkt to /root/nltk_data...\n",
            "[nltk_data]   Unzipping tokenizers/punkt.zip.\n",
            "[nltk_data] Downloading package stopwords to /root/nltk_data...\n",
            "[nltk_data]   Unzipping corpora/stopwords.zip.\n",
            "[nltk_data] Downloading package wordnet to /root/nltk_data...\n",
            "[nltk_data]   Unzipping corpora/wordnet.zip.\n"
          ],
          "name": "stdout"
        },
        {
          "output_type": "execute_result",
          "data": {
            "text/plain": [
              "True"
            ]
          },
          "metadata": {
            "tags": []
          },
          "execution_count": 1
        }
      ]
    },
    {
      "cell_type": "markdown",
      "metadata": {
        "id": "10bTwbitxhoN"
      },
      "source": [
        "Initilizing the DataFrame object\n"
      ]
    },
    {
      "cell_type": "code",
      "metadata": {
        "id": "HSvqFhNCxK4V"
      },
      "source": [
        "sentences = ['Google is  huge', 'Spider is a creepy creature', 'Ajith is the best south indian movie star']\n",
        "dtf = pd.DataFrame()\n",
        "dtf['sentences'] = sentences"
      ],
      "execution_count": null,
      "outputs": []
    },
    {
      "cell_type": "markdown",
      "metadata": {
        "id": "NjidWog08ZVu"
      },
      "source": [
        "Tokenize"
      ]
    },
    {
      "cell_type": "code",
      "metadata": {
        "colab": {
          "base_uri": "https://localhost:8080/",
          "height": 143
        },
        "id": "_QsuKvR96KFS",
        "outputId": "060a62e6-acd1-44da-ce95-6e6a0a0cb261"
      },
      "source": [
        "word_tokenized =  [ word_tokenize(sentence) for sentence in sentences ]\n",
        "dtf['tokenized_sentence'] = word_tokenized\n",
        "dtf.head()"
      ],
      "execution_count": null,
      "outputs": [
        {
          "output_type": "execute_result",
          "data": {
            "text/html": [
              "<div>\n",
              "<style scoped>\n",
              "    .dataframe tbody tr th:only-of-type {\n",
              "        vertical-align: middle;\n",
              "    }\n",
              "\n",
              "    .dataframe tbody tr th {\n",
              "        vertical-align: top;\n",
              "    }\n",
              "\n",
              "    .dataframe thead th {\n",
              "        text-align: right;\n",
              "    }\n",
              "</style>\n",
              "<table border=\"1\" class=\"dataframe\">\n",
              "  <thead>\n",
              "    <tr style=\"text-align: right;\">\n",
              "      <th></th>\n",
              "      <th>sentences</th>\n",
              "      <th>tokenized_sentence</th>\n",
              "    </tr>\n",
              "  </thead>\n",
              "  <tbody>\n",
              "    <tr>\n",
              "      <th>0</th>\n",
              "      <td>Google is  huge</td>\n",
              "      <td>[Google, is, huge]</td>\n",
              "    </tr>\n",
              "    <tr>\n",
              "      <th>1</th>\n",
              "      <td>Spider is a creepy creature</td>\n",
              "      <td>[Spider, is, a, creepy, creature]</td>\n",
              "    </tr>\n",
              "    <tr>\n",
              "      <th>2</th>\n",
              "      <td>Ajith is the best south indian movie star</td>\n",
              "      <td>[Ajith, is, the, best, south, indian, movie, s...</td>\n",
              "    </tr>\n",
              "  </tbody>\n",
              "</table>\n",
              "</div>"
            ],
            "text/plain": [
              "                                   sentences                                 tokenized_sentence\n",
              "0                            Google is  huge                                 [Google, is, huge]\n",
              "1                Spider is a creepy creature                  [Spider, is, a, creepy, creature]\n",
              "2  Ajith is the best south indian movie star  [Ajith, is, the, best, south, indian, movie, s..."
            ]
          },
          "metadata": {
            "tags": []
          },
          "execution_count": 3
        }
      ]
    },
    {
      "cell_type": "markdown",
      "metadata": {
        "id": "zSio0FH98e7f"
      },
      "source": [
        "Stop words\n"
      ]
    },
    {
      "cell_type": "code",
      "metadata": {
        "colab": {
          "base_uri": "https://localhost:8080/",
          "height": 143
        },
        "id": "Yr29_MncnOal",
        "outputId": "28a11909-5a86-4466-a31e-461ff678baed"
      },
      "source": [
        "stopwords = nltk.corpus.stopwords.words(\"english\")\n",
        "\n",
        "processed_sentence = [ [ word for word in sentence if word not in stopwords ] for sentence in word_tokenized  ]\n",
        "dtf['removed_stop_words'] = processed_sentence\n",
        "\n",
        "dtf"
      ],
      "execution_count": null,
      "outputs": [
        {
          "output_type": "execute_result",
          "data": {
            "text/html": [
              "<div>\n",
              "<style scoped>\n",
              "    .dataframe tbody tr th:only-of-type {\n",
              "        vertical-align: middle;\n",
              "    }\n",
              "\n",
              "    .dataframe tbody tr th {\n",
              "        vertical-align: top;\n",
              "    }\n",
              "\n",
              "    .dataframe thead th {\n",
              "        text-align: right;\n",
              "    }\n",
              "</style>\n",
              "<table border=\"1\" class=\"dataframe\">\n",
              "  <thead>\n",
              "    <tr style=\"text-align: right;\">\n",
              "      <th></th>\n",
              "      <th>sentences</th>\n",
              "      <th>tokenized_sentence</th>\n",
              "      <th>removed_stop_words</th>\n",
              "    </tr>\n",
              "  </thead>\n",
              "  <tbody>\n",
              "    <tr>\n",
              "      <th>0</th>\n",
              "      <td>Google is  huge</td>\n",
              "      <td>[Google, is, huge]</td>\n",
              "      <td>[Google, huge]</td>\n",
              "    </tr>\n",
              "    <tr>\n",
              "      <th>1</th>\n",
              "      <td>Spider is a creepy creature</td>\n",
              "      <td>[Spider, is, a, creepy, creature]</td>\n",
              "      <td>[Spider, creepy, creature]</td>\n",
              "    </tr>\n",
              "    <tr>\n",
              "      <th>2</th>\n",
              "      <td>Ajith is the best south indian movie star</td>\n",
              "      <td>[Ajith, is, the, best, south, indian, movie, s...</td>\n",
              "      <td>[Ajith, best, south, indian, movie, star]</td>\n",
              "    </tr>\n",
              "  </tbody>\n",
              "</table>\n",
              "</div>"
            ],
            "text/plain": [
              "                                   sentences  ...                         removed_stop_words\n",
              "0                            Google is  huge  ...                             [Google, huge]\n",
              "1                Spider is a creepy creature  ...                 [Spider, creepy, creature]\n",
              "2  Ajith is the best south indian movie star  ...  [Ajith, best, south, indian, movie, star]\n",
              "\n",
              "[3 rows x 3 columns]"
            ]
          },
          "metadata": {
            "tags": []
          },
          "execution_count": 4
        }
      ]
    },
    {
      "cell_type": "markdown",
      "metadata": {
        "id": "jcq7Gr3EHdBl"
      },
      "source": [
        "Lemmatization\n"
      ]
    },
    {
      "cell_type": "code",
      "metadata": {
        "colab": {
          "base_uri": "https://localhost:8080/",
          "height": 143
        },
        "id": "CAjAbXnktBTk",
        "outputId": "5a7524b0-d4e7-4c96-a46a-b27f69d56bc3"
      },
      "source": [
        "lem = nltk.stem.wordnet.WordNetLemmatizer()\n",
        "\n",
        "lem_sentences = [ [ lem.lemmatize(word) for word in sentence ] for sentence in processed_sentence ]\n",
        "dtf['lemmitized_sentence'] = lem_sentences\n",
        "dtf"
      ],
      "execution_count": null,
      "outputs": [
        {
          "output_type": "execute_result",
          "data": {
            "text/html": [
              "<div>\n",
              "<style scoped>\n",
              "    .dataframe tbody tr th:only-of-type {\n",
              "        vertical-align: middle;\n",
              "    }\n",
              "\n",
              "    .dataframe tbody tr th {\n",
              "        vertical-align: top;\n",
              "    }\n",
              "\n",
              "    .dataframe thead th {\n",
              "        text-align: right;\n",
              "    }\n",
              "</style>\n",
              "<table border=\"1\" class=\"dataframe\">\n",
              "  <thead>\n",
              "    <tr style=\"text-align: right;\">\n",
              "      <th></th>\n",
              "      <th>sentences</th>\n",
              "      <th>tokenized_sentence</th>\n",
              "      <th>removed_stop_words</th>\n",
              "      <th>lemmitized_sentence</th>\n",
              "    </tr>\n",
              "  </thead>\n",
              "  <tbody>\n",
              "    <tr>\n",
              "      <th>0</th>\n",
              "      <td>Google is  huge</td>\n",
              "      <td>[Google, is, huge]</td>\n",
              "      <td>[Google, huge]</td>\n",
              "      <td>[Google, huge]</td>\n",
              "    </tr>\n",
              "    <tr>\n",
              "      <th>1</th>\n",
              "      <td>Spider is a creepy creature</td>\n",
              "      <td>[Spider, is, a, creepy, creature]</td>\n",
              "      <td>[Spider, creepy, creature]</td>\n",
              "      <td>[Spider, creepy, creature]</td>\n",
              "    </tr>\n",
              "    <tr>\n",
              "      <th>2</th>\n",
              "      <td>Ajith is the best south indian movie star</td>\n",
              "      <td>[Ajith, is, the, best, south, indian, movie, s...</td>\n",
              "      <td>[Ajith, best, south, indian, movie, star]</td>\n",
              "      <td>[Ajith, best, south, indian, movie, star]</td>\n",
              "    </tr>\n",
              "  </tbody>\n",
              "</table>\n",
              "</div>"
            ],
            "text/plain": [
              "                                   sentences  ...                        lemmitized_sentence\n",
              "0                            Google is  huge  ...                             [Google, huge]\n",
              "1                Spider is a creepy creature  ...                 [Spider, creepy, creature]\n",
              "2  Ajith is the best south indian movie star  ...  [Ajith, best, south, indian, movie, star]\n",
              "\n",
              "[3 rows x 4 columns]"
            ]
          },
          "metadata": {
            "tags": []
          },
          "execution_count": 5
        }
      ]
    },
    {
      "cell_type": "markdown",
      "metadata": {
        "id": "XdEMY7b24OkF"
      },
      "source": [
        "Word length and character length "
      ]
    },
    {
      "cell_type": "code",
      "metadata": {
        "id": "37AAk8QL4ONs",
        "colab": {
          "base_uri": "https://localhost:8080/",
          "height": 143
        },
        "outputId": "5d1cf21d-23b0-445f-c538-1e7ea6b0daa7"
      },
      "source": [
        "word_count = [ len(sent) for sent in lem_sentences ] \n",
        "dtf['word_count'] = word_count \n",
        "\n",
        "char_count = [ sum([ len(word)  for word in sent  ]) for sent in lem_sentences ] \n",
        "dtf['char_count'] = char_count\n",
        "\n",
        "dtf['avg_word_length'] = dtf['char_count'] / dtf['word_count'] \n",
        "\n",
        "dtf"
      ],
      "execution_count": null,
      "outputs": [
        {
          "output_type": "execute_result",
          "data": {
            "text/html": [
              "<div>\n",
              "<style scoped>\n",
              "    .dataframe tbody tr th:only-of-type {\n",
              "        vertical-align: middle;\n",
              "    }\n",
              "\n",
              "    .dataframe tbody tr th {\n",
              "        vertical-align: top;\n",
              "    }\n",
              "\n",
              "    .dataframe thead th {\n",
              "        text-align: right;\n",
              "    }\n",
              "</style>\n",
              "<table border=\"1\" class=\"dataframe\">\n",
              "  <thead>\n",
              "    <tr style=\"text-align: right;\">\n",
              "      <th></th>\n",
              "      <th>sentences</th>\n",
              "      <th>tokenized_sentence</th>\n",
              "      <th>removed_stop_words</th>\n",
              "      <th>lemmitized_sentence</th>\n",
              "      <th>word_count</th>\n",
              "      <th>char_count</th>\n",
              "      <th>avg_word_length</th>\n",
              "    </tr>\n",
              "  </thead>\n",
              "  <tbody>\n",
              "    <tr>\n",
              "      <th>0</th>\n",
              "      <td>Google is  huge</td>\n",
              "      <td>[Google, is, huge]</td>\n",
              "      <td>[Google, huge]</td>\n",
              "      <td>[Google, huge]</td>\n",
              "      <td>2</td>\n",
              "      <td>10</td>\n",
              "      <td>5.000000</td>\n",
              "    </tr>\n",
              "    <tr>\n",
              "      <th>1</th>\n",
              "      <td>Spider is a creepy creature</td>\n",
              "      <td>[Spider, is, a, creepy, creature]</td>\n",
              "      <td>[Spider, creepy, creature]</td>\n",
              "      <td>[Spider, creepy, creature]</td>\n",
              "      <td>3</td>\n",
              "      <td>20</td>\n",
              "      <td>6.666667</td>\n",
              "    </tr>\n",
              "    <tr>\n",
              "      <th>2</th>\n",
              "      <td>Ajith is the best south indian movie star</td>\n",
              "      <td>[Ajith, is, the, best, south, indian, movie, s...</td>\n",
              "      <td>[Ajith, best, south, indian, movie, star]</td>\n",
              "      <td>[Ajith, best, south, indian, movie, star]</td>\n",
              "      <td>6</td>\n",
              "      <td>29</td>\n",
              "      <td>4.833333</td>\n",
              "    </tr>\n",
              "  </tbody>\n",
              "</table>\n",
              "</div>"
            ],
            "text/plain": [
              "                                   sentences  ... avg_word_length\n",
              "0                            Google is  huge  ...        5.000000\n",
              "1                Spider is a creepy creature  ...        6.666667\n",
              "2  Ajith is the best south indian movie star  ...        4.833333\n",
              "\n",
              "[3 rows x 7 columns]"
            ]
          },
          "metadata": {
            "tags": []
          },
          "execution_count": 6
        }
      ]
    },
    {
      "cell_type": "markdown",
      "metadata": {
        "id": "gJkUXFDoKfkD"
      },
      "source": [
        "Named Entity Recognition\n"
      ]
    },
    {
      "cell_type": "code",
      "metadata": {
        "id": "UsB8m2xIP-Ig"
      },
      "source": [
        "!python -m spacy download en_core_web_lg"
      ],
      "execution_count": null,
      "outputs": []
    },
    {
      "cell_type": "code",
      "metadata": {
        "colab": {
          "base_uri": "https://localhost:8080/"
        },
        "id": "l_tYgYUztVpN",
        "outputId": "79a48191-ae48-474d-956b-fbf854527f28"
      },
      "source": [
        "sentences_preprocessed = [ ' '.join(word for word in sent) for sent in lem_sentences ]\n",
        "dtf['processed_sentence'] = sentences_preprocessed\n",
        "print(sentences_preprocessed)"
      ],
      "execution_count": null,
      "outputs": [
        {
          "output_type": "stream",
          "text": [
            "['Google huge', 'Spider creepy creature', 'Ajith best south indian movie star']\n"
          ],
          "name": "stdout"
        }
      ]
    },
    {
      "cell_type": "code",
      "metadata": {
        "id": "RBV4v8K6Y0Od"
      },
      "source": [
        "from spacy import displacy\n",
        "from collections import Counter\n",
        "import en_core_web_sm\n",
        "nlp = en_core_web_sm.load()"
      ],
      "execution_count": null,
      "outputs": []
    },
    {
      "cell_type": "code",
      "metadata": {
        "colab": {
          "base_uri": "https://localhost:8080/"
        },
        "id": "mJWcSCtDul4M",
        "outputId": "390b2249-b1c9-4cd1-822f-19743d4e3f03"
      },
      "source": [
        "entity_list = [  [ X.label_ for X in nlp(sent).ents ] for sent in sentences_preprocessed ]\n",
        "dtf['enities_detected'] = entity_list\n",
        "print(entity_list)"
      ],
      "execution_count": null,
      "outputs": [
        {
          "output_type": "stream",
          "text": [
            "[['ORG'], [], ['NORP']]\n"
          ],
          "name": "stdout"
        }
      ]
    },
    {
      "cell_type": "code",
      "metadata": {
        "colab": {
          "base_uri": "https://localhost:8080/"
        },
        "id": "EdfNlU_6m-RJ",
        "outputId": "9485eb24-cc2e-49cd-a08c-ae0ea5386b6e"
      },
      "source": [
        "feature_list = []\n",
        "\n",
        "for items in entity_list:\n",
        "  checked_entity = [];\n",
        "  temp = {}\n",
        "  for entity in items:\n",
        "    if entity in checked_entity:\n",
        "       temp[entity] = temp[entity] + 1;\n",
        "    else:\n",
        "      checked_entity.append(entity)\n",
        "      temp[entity] = 1 \n",
        "  feature_list.append(temp)\n",
        "\n",
        "print(feature_list)"
      ],
      "execution_count": null,
      "outputs": [
        {
          "output_type": "stream",
          "text": [
            "[{'ORG': 1}, {}, {'NORP': 1}]\n"
          ],
          "name": "stdout"
        }
      ]
    },
    {
      "cell_type": "code",
      "metadata": {
        "colab": {
          "base_uri": "https://localhost:8080/",
          "height": 161
        },
        "id": "bcGa5eUCo2RJ",
        "outputId": "7d92f4cd-3e0b-41d4-d406-2d857450bb4b"
      },
      "source": [
        "dtf = pd.concat([ dtf, pd.DataFrame(feature_list).fillna(0) ], axis=1)\n",
        "dtf.head()"
      ],
      "execution_count": null,
      "outputs": [
        {
          "output_type": "execute_result",
          "data": {
            "text/html": [
              "<div>\n",
              "<style scoped>\n",
              "    .dataframe tbody tr th:only-of-type {\n",
              "        vertical-align: middle;\n",
              "    }\n",
              "\n",
              "    .dataframe tbody tr th {\n",
              "        vertical-align: top;\n",
              "    }\n",
              "\n",
              "    .dataframe thead th {\n",
              "        text-align: right;\n",
              "    }\n",
              "</style>\n",
              "<table border=\"1\" class=\"dataframe\">\n",
              "  <thead>\n",
              "    <tr style=\"text-align: right;\">\n",
              "      <th></th>\n",
              "      <th>sentences</th>\n",
              "      <th>tokenized_sentence</th>\n",
              "      <th>removed_stop_words</th>\n",
              "      <th>lemmitized_sentence</th>\n",
              "      <th>word_count</th>\n",
              "      <th>char_count</th>\n",
              "      <th>avg_word_length</th>\n",
              "      <th>processed_sentence</th>\n",
              "      <th>enities_detected</th>\n",
              "      <th>ORG</th>\n",
              "      <th>NORP</th>\n",
              "    </tr>\n",
              "  </thead>\n",
              "  <tbody>\n",
              "    <tr>\n",
              "      <th>0</th>\n",
              "      <td>Google is  huge</td>\n",
              "      <td>[Google, is, huge]</td>\n",
              "      <td>[Google, huge]</td>\n",
              "      <td>[Google, huge]</td>\n",
              "      <td>2</td>\n",
              "      <td>10</td>\n",
              "      <td>5.000000</td>\n",
              "      <td>Google huge</td>\n",
              "      <td>[ORG]</td>\n",
              "      <td>1.0</td>\n",
              "      <td>0.0</td>\n",
              "    </tr>\n",
              "    <tr>\n",
              "      <th>1</th>\n",
              "      <td>Spider is a creepy creature</td>\n",
              "      <td>[Spider, is, a, creepy, creature]</td>\n",
              "      <td>[Spider, creepy, creature]</td>\n",
              "      <td>[Spider, creepy, creature]</td>\n",
              "      <td>3</td>\n",
              "      <td>20</td>\n",
              "      <td>6.666667</td>\n",
              "      <td>Spider creepy creature</td>\n",
              "      <td>[]</td>\n",
              "      <td>0.0</td>\n",
              "      <td>0.0</td>\n",
              "    </tr>\n",
              "    <tr>\n",
              "      <th>2</th>\n",
              "      <td>Ajith is the best south indian movie star</td>\n",
              "      <td>[Ajith, is, the, best, south, indian, movie, s...</td>\n",
              "      <td>[Ajith, best, south, indian, movie, star]</td>\n",
              "      <td>[Ajith, best, south, indian, movie, star]</td>\n",
              "      <td>6</td>\n",
              "      <td>29</td>\n",
              "      <td>4.833333</td>\n",
              "      <td>Ajith best south indian movie star</td>\n",
              "      <td>[NORP]</td>\n",
              "      <td>0.0</td>\n",
              "      <td>1.0</td>\n",
              "    </tr>\n",
              "  </tbody>\n",
              "</table>\n",
              "</div>"
            ],
            "text/plain": [
              "                                   sentences  ... NORP\n",
              "0                            Google is  huge  ...  0.0\n",
              "1                Spider is a creepy creature  ...  0.0\n",
              "2  Ajith is the best south indian movie star  ...  1.0\n",
              "\n",
              "[3 rows x 11 columns]"
            ]
          },
          "metadata": {
            "tags": []
          },
          "execution_count": 12
        }
      ]
    },
    {
      "cell_type": "code",
      "metadata": {
        "colab": {
          "base_uri": "https://localhost:8080/",
          "height": 143
        },
        "id": "pV5PyG-5GLIq",
        "outputId": "f35884c9-8d1b-4242-e510-0e5ed62e915e"
      },
      "source": [
        "dtf.iloc[:][['word_count', 'char_count', 'avg_word_length', 'NORP', 'ORG']]"
      ],
      "execution_count": null,
      "outputs": [
        {
          "output_type": "execute_result",
          "data": {
            "text/html": [
              "<div>\n",
              "<style scoped>\n",
              "    .dataframe tbody tr th:only-of-type {\n",
              "        vertical-align: middle;\n",
              "    }\n",
              "\n",
              "    .dataframe tbody tr th {\n",
              "        vertical-align: top;\n",
              "    }\n",
              "\n",
              "    .dataframe thead th {\n",
              "        text-align: right;\n",
              "    }\n",
              "</style>\n",
              "<table border=\"1\" class=\"dataframe\">\n",
              "  <thead>\n",
              "    <tr style=\"text-align: right;\">\n",
              "      <th></th>\n",
              "      <th>word_count</th>\n",
              "      <th>char_count</th>\n",
              "      <th>avg_word_length</th>\n",
              "      <th>NORP</th>\n",
              "      <th>ORG</th>\n",
              "    </tr>\n",
              "  </thead>\n",
              "  <tbody>\n",
              "    <tr>\n",
              "      <th>0</th>\n",
              "      <td>2</td>\n",
              "      <td>10</td>\n",
              "      <td>5.000000</td>\n",
              "      <td>0.0</td>\n",
              "      <td>1.0</td>\n",
              "    </tr>\n",
              "    <tr>\n",
              "      <th>1</th>\n",
              "      <td>3</td>\n",
              "      <td>20</td>\n",
              "      <td>6.666667</td>\n",
              "      <td>0.0</td>\n",
              "      <td>0.0</td>\n",
              "    </tr>\n",
              "    <tr>\n",
              "      <th>2</th>\n",
              "      <td>6</td>\n",
              "      <td>29</td>\n",
              "      <td>4.833333</td>\n",
              "      <td>1.0</td>\n",
              "      <td>0.0</td>\n",
              "    </tr>\n",
              "  </tbody>\n",
              "</table>\n",
              "</div>"
            ],
            "text/plain": [
              "   word_count  char_count  avg_word_length  NORP  ORG\n",
              "0           2          10         5.000000   0.0  1.0\n",
              "1           3          20         6.666667   0.0  0.0\n",
              "2           6          29         4.833333   1.0  0.0"
            ]
          },
          "metadata": {
            "tags": []
          },
          "execution_count": 13
        }
      ]
    },
    {
      "cell_type": "markdown",
      "metadata": {
        "id": "fr5AUl4hWXGt"
      },
      "source": [
        "Word vector\n"
      ]
    },
    {
      "cell_type": "code",
      "metadata": {
        "id": "CMK49tx_vq49",
        "colab": {
          "base_uri": "https://localhost:8080/"
        },
        "outputId": "7a918c54-6389-4a41-f782-6f0cc0385375"
      },
      "source": [
        "nlp2 = gensim_api.load(\"glove-wiki-gigaword-300\")"
      ],
      "execution_count": null,
      "outputs": [
        {
          "output_type": "stream",
          "text": [
            "[=================================================-] 99.5% 374.2/376.1MB downloaded\n"
          ],
          "name": "stdout"
        }
      ]
    },
    {
      "cell_type": "code",
      "metadata": {
        "colab": {
          "base_uri": "https://localhost:8080/"
        },
        "id": "RqJ386-fSfbU",
        "outputId": "8025d825-dff9-47c4-a4b3-56183f6cf148"
      },
      "source": [
        "lem_sent = ['play', 'ball']\n",
        "vec = np.array([ nlp2[word] for word in lem_sent ]).flatten()\n",
        "vec"
      ],
      "execution_count": null,
      "outputs": [
        {
          "output_type": "execute_result",
          "data": {
            "text/plain": [
              "array([-3.6011e-01,  6.1678e-01, -4.8175e-01, -6.6795e-02, -2.5200e-02,\n",
              "        1.8144e-01, -2.7854e-01,  3.1219e-01,  6.5527e-02, -8.2089e-01,\n",
              "        1.5012e-01,  9.1332e-02, -1.1295e-01, -1.9711e-01,  9.6786e-02,\n",
              "       -2.5849e-01, -1.1721e-01, -1.6041e-01,  2.1004e-01,  1.6739e-01,\n",
              "       -1.8715e-01,  2.4142e-01, -1.8942e-01, -9.8103e-02, -5.6365e-02,\n",
              "        1.7850e-01,  4.7334e-02, -4.4688e-02, -4.6457e-01,  9.9004e-02,\n",
              "        9.8566e-02,  1.2547e-01,  2.8366e-01,  2.5806e-01, -1.6402e+00,\n",
              "        9.7301e-02,  5.3586e-01,  6.2877e-01, -1.3648e-01, -1.2532e-01,\n",
              "        4.2191e-01, -3.6628e-01, -2.1626e-01, -5.8103e-01,  8.5401e-02,\n",
              "        1.5636e-01,  6.4898e-01,  1.9133e-01, -3.5306e-01, -8.5243e-03,\n",
              "        2.0416e-01,  1.9537e-01, -2.1984e-01, -3.9992e-01, -3.2676e-01,\n",
              "       -6.8891e-02, -6.9033e-02,  4.7597e-01,  4.4824e-01, -6.8132e-02,\n",
              "        3.1752e-02,  2.4863e-01, -5.7836e-01, -3.1401e-02, -2.7701e-01,\n",
              "       -4.7210e-01,  4.4395e-01, -3.9729e-02,  1.0607e-01, -2.7462e-01,\n",
              "        3.6694e-01,  1.6003e-01,  3.6231e-01,  2.3067e-01,  1.9569e-01,\n",
              "       -1.9098e-01,  8.2305e-03,  4.6996e-01, -1.2707e-01, -2.8613e-01,\n",
              "       -7.3923e-02, -3.8338e-01,  5.0623e-02, -2.5783e-01, -7.1747e-02,\n",
              "        1.4658e-02, -2.6396e-01,  1.5598e-01,  2.5808e-01, -1.2237e-01,\n",
              "        2.2752e-01,  4.3843e-01,  7.8731e-02, -2.9908e-01, -6.2503e-02,\n",
              "        2.7058e-01, -1.3776e-01, -3.1358e-01, -4.5345e-01, -9.4438e-01,\n",
              "       -9.8627e-03, -1.1038e-02, -5.6621e-01, -2.2815e-01,  1.9587e-01,\n",
              "        5.8417e-01,  2.7495e-01,  2.7701e-01, -3.9081e-01,  3.1324e-01,\n",
              "        2.4770e-01, -4.5636e-01, -2.1195e-02,  3.4403e-01,  9.1636e-02,\n",
              "        9.4980e-02,  2.6370e-01, -2.0877e-01, -1.2488e-01, -1.7530e-01,\n",
              "       -3.6119e-01, -3.8448e-01,  2.5779e-01, -1.1915e-01, -3.6576e-01,\n",
              "       -2.3001e-01,  1.6045e-01, -8.8597e-02, -6.6731e-02,  1.2053e-01,\n",
              "        9.4629e-02,  4.2522e-01, -3.1008e-01, -5.4773e-01, -5.0449e-02,\n",
              "       -4.5891e-02,  2.0854e-01, -9.4628e-02, -4.0301e-01,  5.7016e-01,\n",
              "        2.2077e-01, -1.1591e-01,  3.4446e-01,  4.1885e-02, -5.3557e-01,\n",
              "        9.1192e-02, -1.1923e-01,  1.7563e-01, -3.3375e-01,  6.8009e-03,\n",
              "       -4.3309e-01, -5.9924e-01, -4.5587e-01, -4.6653e-01,  5.4671e-01,\n",
              "       -4.1761e-01, -8.0092e-02,  8.7391e-02,  9.5470e-02,  2.9219e-01,\n",
              "        1.1918e-01, -3.6332e-01, -1.1332e-01, -3.0760e-01,  2.3862e-02,\n",
              "        3.3587e-01, -6.4724e-01,  3.4436e-01,  1.3790e-01, -3.6027e-01,\n",
              "        1.8303e-02,  2.2390e-01, -1.2214e+00,  3.3814e-01, -3.0770e-02,\n",
              "       -1.4477e-01, -2.6804e-01,  8.9224e-02, -4.5176e-01,  4.3093e-01,\n",
              "        5.2953e-02,  1.7819e-01,  4.8528e-01, -1.3087e-01, -4.1054e-01,\n",
              "        6.4328e-02, -7.9136e-01, -1.6919e-01, -2.5443e-01,  1.6762e-02,\n",
              "       -4.1395e-02,  2.4849e-01,  6.6885e-01, -1.1460e-01,  2.8217e-01,\n",
              "       -5.5566e-01,  2.8874e-01,  7.7871e-02,  9.8592e-02, -1.1556e-01,\n",
              "        2.0240e+00,  3.9130e-01, -2.7989e-02, -4.1576e-01,  3.7815e-01,\n",
              "       -1.5612e-01,  2.4034e-02,  3.3924e-01, -3.0867e-01, -1.5165e-01,\n",
              "        7.1153e-02,  4.3624e-01, -2.9501e-01,  4.5120e-01, -2.1707e-01,\n",
              "        3.8569e-02,  8.0470e-02,  7.7223e-02,  1.6558e-01, -1.7371e-01,\n",
              "       -3.2361e-01,  9.0539e-03, -5.2570e-01,  1.0456e-01, -2.2603e-01,\n",
              "       -1.7913e-01,  3.2807e-01, -3.9388e-02, -6.6727e-02,  3.2068e-01,\n",
              "        1.9811e-01, -1.2486e-01,  9.0910e-03, -3.6095e-01, -2.1721e-01,\n",
              "        4.9966e-01, -2.7369e-01,  4.9640e-01,  2.5626e-01,  2.0489e-01,\n",
              "        2.6167e-01,  2.0379e-01,  9.5930e-02,  1.0471e-01, -1.7463e-01,\n",
              "        1.5437e-01, -7.9079e-01,  2.2220e-01, -1.5260e-01,  2.6234e-01,\n",
              "        6.2956e-01, -1.2003e-01, -2.7415e-01,  1.8749e-01,  4.9356e-01,\n",
              "       -1.3236e-01,  5.8862e-01,  5.0644e-02,  1.9170e-01,  2.3772e-01,\n",
              "        1.6212e-01, -4.7383e-01,  2.0713e-01,  8.8297e-02,  2.0752e-01,\n",
              "       -4.9254e-01, -1.2713e-02, -1.1736e-01,  2.1324e-02, -2.5581e-01,\n",
              "        4.4767e-01, -1.5613e-01,  2.6346e-01,  1.7745e-02,  6.6725e-01,\n",
              "       -1.2835e-01, -1.9416e+00,  1.5841e-02,  2.8225e-02,  3.4725e-01,\n",
              "       -2.9774e-01,  2.6198e-01, -7.8186e-02,  2.4848e-01, -1.0346e-01,\n",
              "       -3.2890e-01, -4.3438e-02,  3.1843e-02, -2.8577e-01, -3.3875e-01,\n",
              "       -1.9016e-01,  1.3316e-01, -2.7217e-02,  1.9161e-01,  5.3413e-01,\n",
              "        8.3593e-02,  5.3892e-01, -3.6933e-01,  1.1319e-01, -1.2433e-01,\n",
              "       -2.2694e-01,  4.7336e-01, -1.1235e-01,  2.9225e-01,  2.3660e-01,\n",
              "       -1.4951e-01, -3.0909e-02, -2.2472e-01, -3.1172e-01, -1.0547e+00,\n",
              "       -4.7135e-02,  1.2985e-01, -1.4791e-01, -4.6792e-01, -4.1580e-01,\n",
              "        3.7079e-01, -6.6829e-01,  1.4515e-02,  2.4866e-01,  5.7954e-01,\n",
              "       -3.5824e-02,  2.9967e-01, -1.9175e-01, -3.3183e-01,  3.6218e-01,\n",
              "       -6.5551e-02, -1.9755e-01,  2.3964e-01,  1.0937e-03, -1.3113e-02,\n",
              "        1.0534e+00, -3.3252e-02,  3.7137e-01,  4.0116e-01, -1.6888e+00,\n",
              "       -1.4000e-01,  4.0547e-01,  3.0469e-01, -5.4094e-01,  7.2119e-01,\n",
              "       -1.8948e-01, -1.4652e-01, -1.1462e-01, -2.7824e-01,  6.7056e-01,\n",
              "        1.4907e-01,  5.0812e-01, -2.4398e-01,  6.7811e-02,  3.4784e-01,\n",
              "       -3.1315e-01, -2.5041e-01, -4.1038e-03, -1.8943e-01, -2.7287e-01,\n",
              "       -2.2410e-01, -9.8089e-02,  8.9444e-02,  2.2170e-01, -3.1694e-01,\n",
              "        3.3357e-01,  4.2892e-02, -2.6729e-01, -1.7506e-01, -1.9156e-01,\n",
              "       -4.1124e-01,  2.7789e-01, -6.0429e-01,  3.1365e-01, -3.0689e-01,\n",
              "        4.6007e-01,  1.5726e-01,  1.8641e-01,  2.0346e-01,  2.7771e-01,\n",
              "       -4.5604e-02,  7.1416e-01,  3.4363e-01,  3.7644e-01, -3.4208e-01,\n",
              "        3.3869e-01,  1.6438e-01,  4.1166e-01,  7.7412e-02, -1.6065e-01,\n",
              "       -1.0733e-01,  1.6723e-01,  1.8414e-02, -5.3232e-02,  3.0685e-02,\n",
              "        1.0248e+00,  4.2917e-01, -5.7998e-01, -2.6325e-01, -2.7489e-01,\n",
              "       -4.4608e-01, -2.6254e-01, -1.5290e-01, -7.3032e-02, -6.2788e-01,\n",
              "       -2.0807e-02,  3.2181e-02, -1.0770e-01,  1.1634e-02,  1.5271e-01,\n",
              "        2.7615e-01,  7.2365e-01,  1.3449e-01, -2.9408e-01,  3.3621e-01,\n",
              "        2.8370e-01,  1.3504e-01, -2.0772e-02, -1.4593e-02,  1.7538e-02,\n",
              "        1.1863e-02, -3.7380e-01,  2.7380e-01, -2.8672e-01, -5.3551e-01,\n",
              "       -2.2958e-02, -2.4304e-01,  4.4299e-01, -3.3149e-01, -2.5284e-01,\n",
              "        1.8660e-01,  3.6675e-01,  2.1680e-01,  1.6162e-01,  5.5446e-02,\n",
              "        2.0751e-01,  3.9029e-01, -3.4008e-01,  8.5407e-02, -1.0810e-01,\n",
              "        3.2937e-02,  2.3584e-01, -4.0101e-01, -4.6571e-01,  2.8749e-02,\n",
              "        1.8595e-01, -2.6678e-01, -3.5514e-01, -3.1949e-01, -5.0937e-01,\n",
              "        4.1631e-01, -4.7543e-01, -4.7121e-01,  2.6037e-01, -3.5753e-01,\n",
              "        2.4301e-01,  2.0629e-01, -2.5722e-01, -6.6249e-01,  5.0523e-01,\n",
              "       -3.0758e-01,  2.2882e-01, -8.4619e-01,  6.1442e-01, -1.8172e-01,\n",
              "        1.2022e-01, -9.7142e-01, -2.5827e-01, -8.0284e-01,  3.2310e-01,\n",
              "       -2.9646e-01, -3.2497e-01,  3.5420e-01,  3.0646e-01,  2.3769e-01,\n",
              "       -2.6805e-01, -2.2266e-01, -4.0748e-01,  1.1900e-01,  3.6174e-01,\n",
              "        3.3201e-01, -2.3505e-01,  7.0381e-01,  4.7723e-02, -4.2947e-01,\n",
              "        4.9072e-01, -3.2205e-01,  7.6406e-01,  3.2631e-01, -2.1777e-01,\n",
              "       -9.6097e-02,  1.2615e-02, -3.1877e-01,  2.3422e-02,  5.1286e-01,\n",
              "        7.0045e-01,  1.6215e-01,  3.3093e-01, -3.5243e-01,  1.2403e-02,\n",
              "       -3.3056e-01,  1.7845e-01, -1.1743e-01,  3.4374e-01, -1.1056e-01,\n",
              "        1.9720e+00,  4.5221e-01,  1.4378e-01, -5.1976e-01, -2.8636e-02,\n",
              "        2.0068e-01,  2.7395e-01,  1.6858e-02, -5.5867e-01,  2.0469e-01,\n",
              "       -2.2251e-01,  6.0237e-01, -1.2678e-01, -9.5798e-02,  9.2693e-03,\n",
              "       -3.2319e-01,  1.0096e-01, -5.7415e-01, -8.3739e-02, -2.8231e-01,\n",
              "       -8.4443e-03, -4.9801e-02, -2.2918e-01,  3.3998e-02, -4.9476e-01,\n",
              "       -1.5589e-01,  7.5931e-01, -1.4126e-01,  2.5017e-01,  1.2797e-01,\n",
              "        1.4458e-01,  8.3504e-02, -2.3466e-01,  3.9459e-01, -5.2364e-01,\n",
              "        3.2979e-01, -6.0414e-01,  3.4245e-01,  1.2727e-02,  1.5223e-01,\n",
              "        3.8376e-01, -1.8940e-01, -4.8770e-01, -1.9506e-01, -5.5887e-01,\n",
              "        1.0850e-01, -1.0513e-01,  5.3468e-01, -5.0540e-02,  2.4969e-01,\n",
              "        2.3009e-01, -3.8612e-01, -4.8783e-01, -7.5798e-01,  7.2187e-01,\n",
              "       -1.4986e-01, -2.1395e-01, -1.2376e+00, -4.5001e-01, -3.8047e-01,\n",
              "       -1.5577e-01, -5.5359e-01,  4.6985e-02,  2.0752e-02, -4.4483e-01,\n",
              "        2.2603e-01, -6.2669e-01, -9.1517e-02, -8.5723e-02,  3.4041e-01,\n",
              "       -1.2100e-02, -1.5390e-01, -1.0233e-01,  1.5640e-01, -3.9856e-03,\n",
              "       -6.4987e-01, -1.1216e+00,  1.6381e-01, -1.2102e+00,  4.3566e-02,\n",
              "       -8.8610e-01,  1.8858e-01,  6.5522e-01,  4.9022e-01, -2.7480e-02,\n",
              "       -4.8464e-01,  1.3869e-01, -4.6637e-01, -1.2024e-01,  1.3718e-01,\n",
              "        6.3139e-01, -5.3838e-02,  6.2964e-01,  3.6903e-01,  4.0500e-01,\n",
              "       -2.5691e-01,  4.2708e-01, -5.9365e-01,  2.7687e-01, -5.2739e-01],\n",
              "      dtype=float32)"
            ]
          },
          "metadata": {
            "tags": []
          },
          "execution_count": 19
        }
      ]
    },
    {
      "cell_type": "code",
      "metadata": {
        "colab": {
          "base_uri": "https://localhost:8080/"
        },
        "id": "MYHisZ4-XM2X",
        "outputId": "1af510df-efb7-47e4-cd22-a6116b20398d"
      },
      "source": [
        " feature_vec = np.concatenate((dtf.iloc[0][['word_length', 'char_length', 'avg_word_length', 'NORP', 'ORG']].to_numpy(), vec), axis=0)\n",
        " feature_vec"
      ],
      "execution_count": null,
      "outputs": [
        {
          "output_type": "execute_result",
          "data": {
            "text/plain": [
              "array([2, 10, 0.2, 0.0, 1.0, -0.36011001467704773, 0.6167799830436707,\n",
              "       -0.4817500114440918, -0.0667949989438057, -0.025200000032782555,\n",
              "       0.18143999576568604, -0.2785399854183197, 0.3121899962425232,\n",
              "       0.06552699953317642, -0.8208900094032288, 0.15012000501155853,\n",
              "       0.09133200347423553, -0.11294999718666077, -0.19710999727249146,\n",
              "       0.0967859998345375, -0.2584899961948395, -0.11721000075340271,\n",
              "       -0.16041000187397003, 0.21004000306129456, 0.16739000380039215,\n",
              "       -0.1871500015258789, 0.24142000079154968, -0.18941999971866608,\n",
              "       -0.09810300171375275, -0.0563649982213974, 0.1784999966621399,\n",
              "       0.04733400046825409, -0.04468800127506256, -0.46456998586654663,\n",
              "       0.09900400042533875, 0.09856600314378738, 0.12546999752521515,\n",
              "       0.28365999460220337, 0.2580600082874298, -1.6402000188827515,\n",
              "       0.09730099886655807, 0.535860002040863, 0.6287699937820435,\n",
              "       -0.13648000359535217, -0.12532000243663788, 0.42190998792648315,\n",
              "       -0.3662799894809723, -0.21626000106334686, -0.581030011177063,\n",
              "       0.08540099859237671, 0.15636000037193298, 0.6489800214767456,\n",
              "       0.19133000075817108, -0.3530600070953369, -0.00852429959923029,\n",
              "       0.20416000485420227, 0.19537000358104706, -0.21984000504016876,\n",
              "       -0.3999199867248535, -0.3267599940299988, -0.0688909962773323,\n",
              "       -0.06903299689292908, 0.47597000002861023, 0.4482400119304657,\n",
              "       -0.06813199818134308, 0.031752001494169235, 0.24863000214099884,\n",
              "       -0.5783600211143494, -0.031401000916957855, -0.2770099937915802,\n",
              "       -0.47209998965263367, 0.44394999742507935, -0.03972899913787842,\n",
              "       0.10606999695301056, -0.274619996547699, 0.3669399917125702,\n",
              "       0.16003000736236572, 0.362309992313385, 0.2306700050830841,\n",
              "       0.19569000601768494, -0.19098000228405, 0.008230499923229218,\n",
              "       0.4699600040912628, -0.12706999480724335, -0.28613001108169556,\n",
              "       -0.07392299920320511, -0.3833799958229065, 0.05062299966812134,\n",
              "       -0.2578299939632416, -0.07174699753522873, 0.014658000320196152,\n",
              "       -0.26396000385284424, 0.15598000586032867, 0.25808000564575195,\n",
              "       -0.12236999720335007, 0.22752000391483307, 0.4384300112724304,\n",
              "       0.0787310004234314, -0.2990800142288208, -0.06250300258398056,\n",
              "       0.270579993724823, -0.1377599984407425, -0.3135800063610077,\n",
              "       -0.4534499943256378, -0.944379985332489, -0.009862699545919895,\n",
              "       -0.011037999764084816, -0.5662099719047546, -0.22814999520778656,\n",
              "       0.19586999714374542, 0.5841699838638306, 0.2749499976634979,\n",
              "       0.2770099937915802, -0.3908100128173828, 0.3132399916648865,\n",
              "       0.24770000576972961, -0.45636001229286194, -0.021195000037550926,\n",
              "       0.3440299928188324, 0.09163600206375122, 0.09498000144958496,\n",
              "       0.263700008392334, -0.2087700068950653, -0.12488000094890594,\n",
              "       -0.1753000020980835, -0.36118999123573303, -0.38447999954223633,\n",
              "       0.2577899992465973, -0.11914999783039093, -0.3657599985599518,\n",
              "       -0.2300100028514862, 0.16044999659061432, -0.08859699964523315,\n",
              "       -0.06673099845647812, 0.12053000181913376, 0.09462899714708328,\n",
              "       0.4252200126647949, -0.31007999181747437, -0.547730028629303,\n",
              "       -0.05044899880886078, -0.04589100182056427, 0.20853999257087708,\n",
              "       -0.0946279987692833, -0.4030100107192993, 0.5701599717140198,\n",
              "       0.220770001411438, -0.11591000109910965, 0.34446001052856445,\n",
              "       0.041884999722242355, -0.5355700254440308, 0.09119199961423874,\n",
              "       -0.1192300021648407, 0.17563000321388245, -0.33375000953674316,\n",
              "       0.006800900213420391, -0.4330900013446808, -0.5992400050163269,\n",
              "       -0.45587000250816345, -0.4665299952030182, 0.5467100143432617,\n",
              "       -0.4176099896430969, -0.08009199798107147, 0.08739099651575089,\n",
              "       0.09546999633312225, 0.29218998551368713, 0.11918000131845474,\n",
              "       -0.363319993019104, -0.1133200004696846, -0.3075999915599823,\n",
              "       0.023862000554800034, 0.33586999773979187, -0.6472399830818176,\n",
              "       0.34435999393463135, 0.1378999948501587, -0.3602699935436249,\n",
              "       0.018302999436855316, 0.22390000522136688, -1.2214000225067139,\n",
              "       0.33814001083374023, -0.03077000007033348, -0.14476999640464783,\n",
              "       -0.2680400013923645, 0.08922400325536728, -0.4517599940299988,\n",
              "       0.4309299886226654, 0.052953001111745834, 0.17818999290466309,\n",
              "       0.48528000712394714, -0.1308699995279312, -0.41054001450538635,\n",
              "       0.06432799994945526, -0.7913600206375122, -0.16919000446796417,\n",
              "       -0.25442999601364136, 0.01676199957728386, -0.041395001113414764,\n",
              "       0.24849000573158264, 0.6688500046730042, -0.11460000276565552,\n",
              "       0.28216999769210815, -0.5556600093841553, 0.28874000906944275,\n",
              "       0.07787100225687027, 0.09859199821949005, -0.11556000262498856,\n",
              "       2.0239999294281006, 0.3912999927997589, -0.02798900008201599,\n",
              "       -0.41576001048088074, 0.37814998626708984, -0.15612000226974487,\n",
              "       0.02403399907052517, 0.33924001455307007, -0.3086700141429901,\n",
              "       -0.15164999663829803, 0.07115299999713898, 0.43623998761177063,\n",
              "       -0.2950100004673004, 0.451200008392334, -0.21706999838352203,\n",
              "       0.038568999618291855, 0.0804700031876564, 0.07722300291061401,\n",
              "       0.16558000445365906, -0.17371000349521637, -0.32361000776290894,\n",
              "       0.00905389990657568, -0.5256999731063843, 0.1045600026845932,\n",
              "       -0.22603000700473785, -0.17913000285625458, 0.3280700147151947,\n",
              "       -0.03938800096511841, -0.06672699749469757, 0.32067999243736267,\n",
              "       0.19810999929904938, -0.1248600035905838, 0.009091000072658062,\n",
              "       -0.3609499931335449, -0.21720999479293823, 0.4996599853038788,\n",
              "       -0.27368998527526855, 0.49639999866485596, 0.2562600076198578,\n",
              "       0.20488999783992767, 0.26166999340057373, 0.20378999412059784,\n",
              "       0.09593000262975693, 0.10470999777317047, -0.17463000118732452,\n",
              "       0.1543699949979782, -0.7907900214195251, 0.22220000624656677,\n",
              "       -0.1526000052690506, 0.2623400092124939, 0.6295599937438965,\n",
              "       -0.1200300008058548, -0.274150013923645, 0.18749000132083893,\n",
              "       0.49355998635292053, -0.13235999643802643, 0.5886200070381165,\n",
              "       0.05064399912953377, 0.19169999659061432, 0.23771999776363373,\n",
              "       0.1621199995279312, -0.4738300144672394, 0.20712999999523163,\n",
              "       0.08829700201749802, 0.207519993185997, -0.49254000186920166,\n",
              "       -0.012713000178337097, -0.11736000329256058, 0.021323999390006065,\n",
              "       -0.2558099925518036, 0.44767001271247864, -0.15613000094890594,\n",
              "       0.2634600102901459, 0.0177449993789196, 0.6672499775886536,\n",
              "       -0.12835000455379486, -1.94159996509552, 0.01584099978208542,\n",
              "       0.028224999085068703, 0.3472500145435333, -0.29774001240730286,\n",
              "       0.26197999715805054, -0.07818599790334702, 0.24848000705242157,\n",
              "       -0.10345999896526337, -0.328900009393692, -0.04343799874186516,\n",
              "       0.031842999160289764, -0.2857699990272522, -0.3387500047683716,\n",
              "       -0.19016000628471375, 0.13315999507904053, -0.027217000722885132,\n",
              "       0.19160999357700348, 0.5341299772262573, 0.08359300345182419,\n",
              "       0.538919985294342, -0.3693299889564514, 0.11319000273942947,\n",
              "       -0.12432999908924103, -0.22694000601768494, 0.47336000204086304,\n",
              "       -0.11235000193119049, 0.29225000739097595, 0.23659999668598175,\n",
              "       -0.149509996175766, -0.03090899996459484, -0.22472000122070312,\n",
              "       -0.31172001361846924, -1.0547000169754028, -0.04713499918580055,\n",
              "       0.12985000014305115, -0.1479099988937378, -0.4679200053215027,\n",
              "       -0.415800005197525, 0.3707900047302246, -0.6682900190353394,\n",
              "       0.014515000395476818, 0.24865999817848206, 0.5795400142669678,\n",
              "       -0.0358240008354187, 0.29967001080513, -0.19175000488758087,\n",
              "       -0.3318299949169159, 0.3621799945831299, -0.06555099785327911,\n",
              "       -0.1975499987602234, 0.2396399974822998, 0.0010936999460682273,\n",
              "       -0.013113000430166721, 1.0534000396728516, -0.03325200080871582,\n",
              "       0.37136998772621155, 0.40116000175476074, -1.6887999773025513,\n",
              "       -0.14000000059604645, 0.40547001361846924, 0.30469000339508057,\n",
              "       -0.54093998670578, 0.7211899757385254, -0.1894800066947937,\n",
              "       -0.1465200036764145, -0.11462000012397766, -0.27823999524116516,\n",
              "       0.6705600023269653, 0.14906999468803406, 0.5081200003623962,\n",
              "       -0.24398000538349152, 0.06781099736690521, 0.34784001111984253,\n",
              "       -0.31314998865127563, -0.2504099905490875, -0.004103799816220999,\n",
              "       -0.18942999839782715, -0.2728700041770935, -0.2240999937057495,\n",
              "       -0.09808900207281113, 0.08944399654865265, 0.22169999778270721,\n",
              "       -0.3169400095939636, 0.3335700035095215, 0.04289200156927109,\n",
              "       -0.26728999614715576, -0.17506000399589539, -0.19156000018119812,\n",
              "       -0.41124001145362854, 0.27788999676704407, -0.6042900085449219,\n",
              "       0.3136500120162964, -0.30689001083374023, 0.46007001399993896,\n",
              "       0.157260000705719, 0.18640999495983124, 0.2034599930047989,\n",
              "       0.2777099907398224, -0.045604001730680466, 0.7141600251197815,\n",
              "       0.34362998604774475, 0.37643998861312866, -0.3420799970626831,\n",
              "       0.33869001269340515, 0.1643799990415573, 0.41165998578071594,\n",
              "       0.07741200178861618, -0.16064999997615814, -0.10733000189065933,\n",
              "       0.16722999513149261, 0.018414000049233437, -0.05323199927806854,\n",
              "       0.030685000121593475, 1.0247999429702759, 0.42917001247406006,\n",
              "       -0.5799800157546997, -0.2632499933242798, -0.2748900055885315,\n",
              "       -0.4460799992084503, -0.2625400125980377, -0.15289999544620514,\n",
              "       -0.07303199917078018, -0.6278799772262573, -0.020806999877095222,\n",
              "       0.03218099847435951, -0.10769999772310257, 0.011633999645709991,\n",
              "       0.15271000564098358, 0.2761499881744385, 0.7236499786376953,\n",
              "       0.1344899982213974, -0.29407998919487, 0.3362100124359131,\n",
              "       0.28369998931884766, 0.13504000008106232, -0.020772000774741173,\n",
              "       -0.014592999592423439, 0.017537999898195267, 0.011862999759614468,\n",
              "       -0.37380000948905945, 0.27379998564720154, -0.28672000765800476,\n",
              "       -0.5355100035667419, -0.022957999259233475, -0.24303999543190002,\n",
              "       0.4429900050163269, -0.33149001002311707, -0.2528400123119354,\n",
              "       0.186599999666214, 0.36675000190734863, 0.2168000042438507,\n",
              "       0.16162000596523285, 0.05544599890708923, 0.20750999450683594,\n",
              "       0.3902899920940399, -0.34007999300956726, 0.08540699630975723,\n",
              "       -0.10809999704360962, 0.032937001436948776, 0.23583999276161194,\n",
              "       -0.40101000666618347, -0.46571001410484314, 0.028749000281095505,\n",
              "       0.18594999611377716, -0.26677998900413513, -0.35514000058174133,\n",
              "       -0.319489985704422, -0.5093700289726257, 0.41631001234054565,\n",
              "       -0.4754300117492676, -0.4712100028991699, 0.2603699862957001,\n",
              "       -0.35752999782562256, 0.2430099993944168, 0.20629000663757324,\n",
              "       -0.25722000002861023, -0.6624900102615356, 0.5052300095558167,\n",
              "       -0.30757999420166016, 0.22881999611854553, -0.8461899757385254,\n",
              "       0.6144199967384338, -0.18172000348567963, 0.12021999806165695,\n",
              "       -0.9714199900627136, -0.2582699954509735, -0.802839994430542,\n",
              "       0.3231000006198883, -0.29646000266075134, -0.324970006942749,\n",
              "       0.35420000553131104, 0.3064599931240082, 0.2376900017261505,\n",
              "       -0.2680499851703644, -0.22266000509262085, -0.40748000144958496,\n",
              "       0.11900000274181366, 0.36173999309539795, 0.3320100009441376,\n",
              "       -0.2350499927997589, 0.7038099765777588, 0.04772299900650978,\n",
              "       -0.4294700026512146, 0.4907200038433075, -0.322050005197525,\n",
              "       0.7640600204467773, 0.32631000876426697, -0.21776999533176422,\n",
              "       -0.09609699994325638, 0.012614999897778034, -0.31876999139785767,\n",
              "       0.02342200092971325, 0.5128600001335144, 0.7004500031471252,\n",
              "       0.16214999556541443, 0.3309299945831299, -0.35242998600006104,\n",
              "       0.012403000146150589, -0.33055999875068665, 0.17845000326633453,\n",
              "       -0.11743000149726868, 0.34373998641967773, -0.11055999994277954,\n",
              "       1.972000002861023, 0.452210009098053, 0.14377999305725098,\n",
              "       -0.519760012626648, -0.02863599918782711, 0.20068000257015228,\n",
              "       0.2739500105381012, 0.016858000308275223, -0.5586699843406677,\n",
              "       0.20468999445438385, -0.22250999510288239, 0.602370023727417,\n",
              "       -0.12678000330924988, -0.09579800069332123, 0.009269299916923046,\n",
              "       -0.32319000363349915, 0.10096000134944916, -0.574150025844574,\n",
              "       -0.08373899757862091, -0.28231000900268555, -0.008444299921393394,\n",
              "       -0.04980099946260452, -0.2291799932718277, 0.033998001366853714,\n",
              "       -0.49476000666618347, -0.15589000284671783, 0.7593100070953369,\n",
              "       -0.14125999808311462, 0.2501699924468994, 0.12796999514102936,\n",
              "       0.14458000659942627, 0.08350399881601334, -0.23465999960899353,\n",
              "       0.39458999037742615, -0.523639976978302, 0.32978999614715576,\n",
              "       -0.6041399836540222, 0.34244999289512634, 0.012726999819278717,\n",
              "       0.15222999453544617, 0.383760005235672, -0.18940000236034393,\n",
              "       -0.4876999855041504, -0.19505999982357025, -0.5588700175285339,\n",
              "       0.10849999636411667, -0.10513000190258026, 0.5346800088882446,\n",
              "       -0.050540000200271606, 0.2496899962425232, 0.23009000718593597,\n",
              "       -0.3861199915409088, -0.4878300130367279, -0.7579799890518188,\n",
              "       0.7218700051307678, -0.14985999464988708, -0.2139499932527542,\n",
              "       -1.2375999689102173, -0.4500100016593933, -0.38047000765800476,\n",
              "       -0.15577000379562378, -0.5535899996757507, 0.04698500037193298,\n",
              "       0.02075199969112873, -0.4448300004005432, 0.22603000700473785,\n",
              "       -0.6266899704933167, -0.09151700139045715, -0.08572299778461456,\n",
              "       0.3404099941253662, -0.01209999993443489, -0.15389999747276306,\n",
              "       -0.10232999920845032, 0.15639999508857727, -0.003985600080341101,\n",
              "       -0.649869978427887, -1.1216000318527222, 0.16380999982357025,\n",
              "       -1.2101999521255493, 0.04356599971652031, -0.8860999941825867,\n",
              "       0.1885800063610077, 0.6552199721336365, 0.49022001028060913,\n",
              "       -0.027480000630021095, -0.4846400022506714, 0.13868999481201172,\n",
              "       -0.46636998653411865, -0.12024000287055969, 0.13718000054359436,\n",
              "       0.6313899755477905, -0.05383799970149994, 0.6296399831771851,\n",
              "       0.3690299987792969, 0.4050000011920929, -0.2569099962711334,\n",
              "       0.4270800054073334, -0.5936499834060669, 0.2768700122833252,\n",
              "       -0.5273900032043457], dtype=object)"
            ]
          },
          "metadata": {
            "tags": []
          },
          "execution_count": 26
        }
      ]
    }
  ]
}